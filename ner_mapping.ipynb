{
  "cells": [
    {
      "cell_type": "markdown",
      "metadata": {},
      "source": [
        "## Packages\n\n"
      ]
    },
    {
      "cell_type": "code",
      "execution_count": 1,
      "metadata": {},
      "outputs": [
        {
          "name": "stdout",
          "output_type": "stream",
          "text": [
            "── \u001b[1mAttaching packages\u001b[22m ────────────────────────────────────────────────────────────────────────────────── tidyverse 1.3.2 ──\n\u001b[32m✔\u001b[39m \u001b[34mggplot2\u001b[39m 3.4.0     \u001b[32m✔\u001b[39m \u001b[34mpurrr  \u001b[39m 0.3.4\n\u001b[32m✔\u001b[39m \u001b[34mtibble \u001b[39m 3.1.6     \u001b[32m✔\u001b[39m \u001b[34mdplyr  \u001b[39m 1.0.8\n\u001b[32m✔\u001b[39m \u001b[34mtidyr  \u001b[39m 1.2.0     \u001b[32m✔\u001b[39m \u001b[34mstringr\u001b[39m 1.4.0\n\u001b[32m✔\u001b[39m \u001b[34mreadr  \u001b[39m 2.1.3     \u001b[32m✔\u001b[39m \u001b[34mforcats\u001b[39m 0.5.1\n── \u001b[1mConflicts\u001b[22m ───────────────────────────────────────────────────────────────────────────────────── tidyverse_conflicts() ──\n\u001b[31m✖\u001b[39m \u001b[34mdplyr\u001b[39m::\u001b[32mfilter()\u001b[39m masks \u001b[34mstats\u001b[39m::filter()\n\u001b[31m✖\u001b[39m \u001b[34mdplyr\u001b[39m::\u001b[32mlag()\u001b[39m    masks \u001b[34mstats\u001b[39m::lag()"
          ]
        }
      ],
      "source": [
        "library(tidyverse)\nlibrary(spacyr)\nlibrary(usmap)\n\ndata(state)"
      ]
    },
    {
      "cell_type": "markdown",
      "metadata": {},
      "source": [
        "## Starting a spacyr session\n\n"
      ]
    },
    {
      "cell_type": "code",
      "execution_count": 1,
      "metadata": {},
      "outputs": [
        {
          "name": "stdout",
          "output_type": "stream",
          "text": [
            "Finding a python executable with spaCy installed...\nspaCy (language model: en_core_web_sm) is installed in /Library/Frameworks/Python.framework/Versions/3.9/bin/python3\nsuccessfully initialized (spaCy Version: 3.2.1, language model: en_core_web_sm)\n(python options: type = \"python_executable\", value = \"/Library/Frameworks/Python.framework/Versions/3.9/bin/python3\")"
          ]
        }
      ],
      "source": [
        "spacy_initialize(model = \"en_core_web_sm\")"
      ]
    },
    {
      "cell_type": "markdown",
      "metadata": {},
      "source": [
        "## Getting the data\n\n"
      ]
    },
    {
      "cell_type": "code",
      "execution_count": 1,
      "metadata": {},
      "outputs": [],
      "source": [
        "data <- read.csv(\"https://llc.herokuapp.com/summaries.csv?sql=select%0D%0A++rowid%2C%0D%0A++content_text%0D%0Afrom%0D%0A++files%0D%0Awhere%0D%0A++%22path%22+like+%2274_2_s%25%22%0D%0Aorder+by%0D%0A++path&_size=max\")"
      ]
    },
    {
      "cell_type": "markdown",
      "metadata": {},
      "source": [
        "## create a single text\n\n"
      ]
    },
    {
      "cell_type": "code",
      "execution_count": 1,
      "metadata": {},
      "outputs": [],
      "source": [
        "text <- data$content_text %>% str_c()"
      ]
    },
    {
      "cell_type": "markdown",
      "metadata": {},
      "source": [
        "## Entity extraction\n\n"
      ]
    },
    {
      "cell_type": "code",
      "execution_count": 1,
      "metadata": {},
      "outputs": [],
      "source": [
        "parsed_text <- spacy_parse(text, lemma = TRUE, entity = TRUE, nounphrase = TRUE)\nentities <- entity_extract(parsed_text)"
      ]
    },
    {
      "cell_type": "markdown",
      "metadata": {},
      "source": [
        "## Geopolitical Entities\n\n"
      ]
    },
    {
      "cell_type": "code",
      "execution_count": 1,
      "metadata": {},
      "outputs": [],
      "source": [
        "gpes <- entities %>%\n  filter(entity_type == \"GPE\") %>% \n  mutate(across('entity', str_replace_all, '_', ' ')) %>% \n  filter(str_detect(entity, \"States\", negate = TRUE)) %>% \n  filter(str_detect(entity, \"District\", negate = TRUE)) %>% \n  filter(str_detect(entity, \"County\", negate = TRUE)) %>% \n  filter(str_detect(entity, \"City\", negate = TRUE)) %>% \n  filter(str_detect(entity, \"\\\\d+\", negate = TRUE)) %>% \n  filter(str_detect(entity, \"^the\", negate = TRUE)) %>% \n  filter(str_detect(entity, \"^(?!Rhode) Island\", negate = TRUE)) %>% \n  filter(str_detect(entity, \"^U\\\\.\", negate = TRUE))"
      ]
    },
    {
      "cell_type": "markdown",
      "metadata": {},
      "source": [
        "## State Names\n\n"
      ]
    },
    {
      "cell_type": "code",
      "execution_count": 1,
      "metadata": {},
      "outputs": [],
      "source": [
        "state_names <- tibble(entity = state.name)"
      ]
    },
    {
      "cell_type": "markdown",
      "metadata": {},
      "source": [
        "## Abbreviated states\n\n"
      ]
    },
    {
      "cell_type": "code",
      "execution_count": 1,
      "metadata": {},
      "outputs": [],
      "source": [
        "states_abbrev <- gpes %>%\n  filter(str_detect(entity, \"\\\\.$\"))"
      ]
    },
    {
      "cell_type": "markdown",
      "metadata": {},
      "source": [
        "## Recoding Abbreviations\n\n"
      ]
    },
    {
      "cell_type": "code",
      "execution_count": 1,
      "metadata": {},
      "outputs": [
        {
          "name": "stdout",
          "output_type": "stream",
          "text": [
            "[1] \"Ala.\"   \"Ark.\"   \"Colo.\"  \"Conn.\"  \"Fla.\"   \"Ga.\"    \"Ind.\"   \"Ky.\"   \n [9] \"Mass.\"  \"Md.\"    \"Mich.\"  \"Mont.\"  \"Okla.\"  \"Tenn.\"  \"Tex .\"  \"Va.\"   \n[17] \"Vt .\"   \"W. Va.\" \"Wis.\""
          ]
        }
      ],
      "source": [
        "distinct_states_abbrev <- sort(unique(states_abbrev$entity))\n\ndistinct_states_abbrev"
      ]
    },
    {
      "cell_type": "markdown",
      "metadata": {},
      "source": [
        "## Recoding Vector\n\n"
      ]
    },
    {
      "cell_type": "code",
      "execution_count": 1,
      "metadata": {},
      "outputs": [],
      "source": [
        "expanded_states_abbrev <- c(\n  \"Ala.\" = \"Alabama\",\n  \"Ark.\" = \"Arkansas\",\n  \"Colo.\" = \"Colorado\",\n  \"Conn.\" = \"Connecticut\",\n  \"Fla.\" = \"Florida\",\n  \"Ga.\" = \"Georgia\",\n  \"Ind.\" = \"Indiana\",\n  \"Ky.\" = \"Kentucky\",\n  \"Mass.\" = \"Massachusetts\",\n  \"Md.\" = \"Maryland\",\n  \"Mich.\" = \"Michigan\",\n  \"Mont.\" = \"Montana\",\n  \"Okla.\" = \"Oklahoma\",\n  \"Tenn.\" = \"Tennessee\",\n  \"Tex .\" = \"Texas\",\n  \"Va.\" = \"Virginia\",\n  \"Vt .\" = \"Vermont\",\n  \"W. Va.\" = \"West Virginia\",\n  \"Wis.\" = \"Wisconsin\"\n)"
      ]
    },
    {
      "cell_type": "markdown",
      "metadata": {},
      "source": [
        "## Finally recoding\n\n"
      ]
    },
    {
      "cell_type": "code",
      "execution_count": 1,
      "metadata": {},
      "outputs": [
        {
          "name": "stdout",
          "output_type": "stream",
          "text": [
            "\u001b[1m\u001b[22mJoining, by = \"entity\""
          ]
        }
      ],
      "source": [
        "states <- gpes %>% \n  mutate(entity = recode_factor(entity, !!!expanded_states_abbrev)) %>% \n  inner_join(state_names) %>% \n  select(entity)"
      ]
    },
    {
      "cell_type": "markdown",
      "metadata": {},
      "source": [
        "## State counts\n\n"
      ]
    },
    {
      "cell_type": "code",
      "execution_count": 1,
      "metadata": {},
      "outputs": [
        {
          "name": "stdout",
          "output_type": "stream",
          "text": [
            "\u001b[1m\u001b[22mJoining, by = \"entity\""
          ]
        }
      ],
      "source": [
        "state_counts <- states %>% \n  count(entity) %>% \n  right_join(state_names) %>% \n  mutate(full = entity) %>% \n  select(full, n)"
      ]
    },
    {
      "cell_type": "markdown",
      "metadata": {},
      "source": [
        "## Mapping\n\n"
      ]
    },
    {
      "cell_type": "markdown",
      "metadata": {},
      "source": [
        "### Map Data\n\n"
      ]
    },
    {
      "cell_type": "code",
      "execution_count": 1,
      "metadata": {},
      "outputs": [],
      "source": [
        "state_map_data <- us_map(regions = c(\"state\"))"
      ]
    },
    {
      "cell_type": "markdown",
      "metadata": {},
      "source": [
        "### Joining map data\n\n"
      ]
    },
    {
      "cell_type": "code",
      "execution_count": 1,
      "metadata": {},
      "outputs": [
        {
          "name": "stdout",
          "output_type": "stream",
          "text": [
            "\u001b[1m\u001b[22mJoining, by = \"full\""
          ]
        }
      ],
      "source": [
        "map_df <- state_counts %>% \n  inner_join(state_map_data) %>% \n  select(state = full, values = n) %>% \n  distinct()"
      ]
    },
    {
      "cell_type": "markdown",
      "metadata": {},
      "source": [
        "### Plotting\n\n"
      ]
    },
    {
      "cell_type": "code",
      "execution_count": 1,
      "metadata": {},
      "outputs": [
        {
          "data": {
            "image/png": "",
            "text/plain": "<matplotlib.figure.Figure>"
          },
          "metadata": {},
          "output_type": "display_data"
        }
      ],
      "source": [
        "plot_usmap(data = map_df) +\n  scale_fill_viridis_c(direction = -1)"
      ]
    }
  ],
  "metadata": {
    "org": null,
    "kernelspec": {
      "display_name": "R",
      "language": "R",
      "name": "ir"
    },
    "language_info": {
      "codemirror_mode": "r",
      "file_extension": ".r",
      "mimetype": "text/x-r-source",
      "name": "R",
      "pygments_lexer": "r",
      "version": "3.3.2"
    }
  },
  "nbformat": 4,
  "nbformat_minor": 0
}